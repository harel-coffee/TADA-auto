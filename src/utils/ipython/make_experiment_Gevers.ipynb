{
 "cells": [
  {
   "cell_type": "code",
   "execution_count": null,
   "metadata": {},
   "outputs": [],
   "source": [
    "import pandas as pd\n",
    "import numpy as np\n",
    "import biom\n",
    "import re\n",
    "from biom.util import biom_open  \n",
    "from biom.table import Table\n",
    "import os"
   ]
  },
  {
   "cell_type": "code",
   "execution_count": null,
   "metadata": {},
   "outputs": [],
   "source": [
    "meta_main = pd.read_csv('/Users/erfan/Main/oasis/test_augmentation/augmentation/Gevers/feature-frequency-filtered-table.3/meta_data.csv',sep='\\t', dtype={'#SampleID': str}, low_memory=False, index_col= '#SampleID')\n",
    "table_main = biom.load_table('/Users/erfan/Main/oasis/test_augmentation/augmentation/Gevers/feature-frequency-filtered-table.3/feature-table.biom')\n",
    "\n"
   ]
  },
  {
   "cell_type": "code",
   "execution_count": null,
   "metadata": {},
   "outputs": [],
   "source": [
    "len(meta_main)\n",
    "len(table_main.ids('observation')), len(table_main.ids('sample'))"
   ]
  },
  {
   "cell_type": "code",
   "execution_count": null,
   "metadata": {},
   "outputs": [],
   "source": [
    "table_main.generated_by"
   ]
  },
  {
   "cell_type": "code",
   "execution_count": null,
   "metadata": {},
   "outputs": [],
   "source": [
    "def read_csv(meta_fp, biom_fp):\n",
    "    meta = pd.read_csv(meta_fp, sep='\\t', dtype={'#SampleID': str}, low_memory=False)\n",
    "    meta = meta.set_index('#SampleID')\n",
    "    table = biom.load_table(biom_fp)\n",
    "    meta = meta.loc[meta.index.isin(table.ids('sample'))] \n",
    "    table = table.filter(ids_to_keep=meta.index)\n",
    "    print(meta_fp, meta.shape, biom_fp, table.shape)\n",
    "    return meta, table"
   ]
  },
  {
   "cell_type": "code",
   "execution_count": null,
   "metadata": {},
   "outputs": [],
   "source": [
    "def filter_biom(meta, table, min_freq_sum, min_freq):\n",
    "    \n",
    "    table = table.filter(axis='sample', ids_to_keep=meta.index,inplace=False)\n",
    "    \n",
    "    filter_fn = lambda val, id_, md: val.sum() > min_freq_sum  \n",
    "    table = table.filter(axis='sample', ids_to_keep=filter_fn, inplace=False)\n",
    "\n",
    "    filter_fn = lambda val, id_, md: val.sum() > min_freq\n",
    "    table = table.filter(axis='observation', ids_to_keep=filter_fn, inplace=False)\n",
    "    \n",
    "    print(\"meta_fp\", meta.shape, \"biom_fp\", table.shape)\n",
    "    meta = meta.loc[meta.index.isin(table.ids('sample'))]\n",
    "    meta = meta.reindex(table.ids('sample'))\n",
    "    return meta, table"
   ]
  },
  {
   "cell_type": "code",
   "execution_count": null,
   "metadata": {},
   "outputs": [],
   "source": [
    "def filter_samples_Gevers(meta, table, min_freq_sum, min_freq):\n",
    "    meta = meta.loc[~(meta.antibiotics == True)]\n",
    "#     meta = meta.loc[~meta.age.isin(['nan'])]\n",
    "#     meta.age = meta.age.astype('float')\n",
    "#     meta = meta.loc[(meta.age >= 2) & (meta.age <= 80)]\n",
    "    meta = meta.loc[meta.diagnosis.isin(['CD','UC','IC','no'])]\n",
    "    meta['ibd_cond'] = pd.Series(['HC']*meta.shape[0], index=meta.index)\n",
    "    meta.loc[meta['diagnosis'].isin(['CD','UC','IC']), 'ibd_cond'] = 'IBD'\n",
    "    to_remove = [\"1939.MGH104824.b\", \"1939.SKBTI.0952\", \"1939.SKBTI.0930\", \"1939.SKBTI.1296\", \"1939.SKBTI.0220\", \"1939.SKBTI.0157.b\", \"1939.SKBTI.0933\", \"1939.SKBTI.0172.a\", \"1939.SKBTI.0255.a\"]\n",
    "    meta = meta.loc[~meta.index.isin(to_remove)]\n",
    "    meta, table = filter_biom(meta, table, min_freq_sum, min_freq)\n",
    "    \n",
    "    print(\"number of IBD samples is\", meta.loc[meta['ibd_cond']=='IBD'].shape, table.shape, meta.shape)\n",
    "    return meta, table"
   ]
  },
  {
   "cell_type": "code",
   "execution_count": null,
   "metadata": {},
   "outputs": [],
   "source": [
    "main_dir = '/Users/erfan/Main/oasis/test_augmentation/augmentation/Gevers/'"
   ]
  },
  {
   "cell_type": "code",
   "execution_count": null,
   "metadata": {},
   "outputs": [],
   "source": [
    "metat1, tablet1 = read_csv(main_dir + '/1939_prep_1177_qiime_20180418-110403.txt', main_dir + '/all.biom')"
   ]
  },
  {
   "cell_type": "code",
   "execution_count": null,
   "metadata": {},
   "outputs": [],
   "source": [
    "meta, table = filter_samples_Gevers(metat1, tablet1,  10000, 2)"
   ]
  },
  {
   "cell_type": "code",
   "execution_count": null,
   "metadata": {},
   "outputs": [],
   "source": [
    "a = set(table.ids('observation')) - set(table_main.ids('observation'))\n",
    "len(set(table_main.ids('observation')) - set(table.ids('observation')))"
   ]
  },
  {
   "cell_type": "code",
   "execution_count": null,
   "metadata": {},
   "outputs": [],
   "source": [
    "tablet4 = table.filter(axis='observation',ids_to_keep=a,inplace=False)\n",
    "tablet4 = tablet4.filter(axis='sample', ids_to_keep = set(meta.index),inplace=False)"
   ]
  },
  {
   "cell_type": "code",
   "execution_count": 14,
   "metadata": {},
   "outputs": [
    {
     "data": {
      "text/plain": [
       "<0x890 sparse matrix of type '<class 'numpy.float64'>'\n",
       "\twith 0 stored elements in Compressed Sparse Column format>"
      ]
     },
     "execution_count": 14,
     "metadata": {},
     "output_type": "execute_result"
    }
   ],
   "source": [
    "tablet4.matrix_data"
   ]
  },
  {
   "cell_type": "code",
   "execution_count": 15,
   "metadata": {},
   "outputs": [],
   "source": [
    "meta['IBD'] = 0\n",
    "meta.loc[meta.ibd_cond == 'IBD','IBD'] = 1"
   ]
  },
  {
   "cell_type": "code",
   "execution_count": 16,
   "metadata": {},
   "outputs": [],
   "source": [
    "if not os.path.exists(main_dir + 'Final/'):\n",
    "    os.mkdir(main_dir + 'Final/')"
   ]
  },
  {
   "cell_type": "code",
   "execution_count": 17,
   "metadata": {},
   "outputs": [],
   "source": [
    "meta.to_csv(main_dir + 'Final/meta_data.csv',sep='\\t')"
   ]
  },
  {
   "cell_type": "code",
   "execution_count": 18,
   "metadata": {},
   "outputs": [],
   "source": [
    "with biom_open(main_dir + 'Final/feature-table.biom', 'w') as f:  \n",
    "    table.to_hdf5(f, \"no filtering on age, no antibiotics, min_freq 0, max_sum 10k\")"
   ]
  },
  {
   "cell_type": "code",
   "execution_count": 19,
   "metadata": {},
   "outputs": [],
   "source": [
    "with open(main_dir + 'Final/species.txt', 'w') as f:\n",
    "    \n",
    "    string = \"\\n\".join(table.ids('observation'))\n",
    "    f.write(string)"
   ]
  },
  {
   "cell_type": "code",
   "execution_count": null,
   "metadata": {},
   "outputs": [],
   "source": []
  }
 ],
 "metadata": {
  "kernelspec": {
   "display_name": "Python 3",
   "language": "python",
   "name": "python3"
  },
  "language_info": {
   "codemirror_mode": {
    "name": "ipython",
    "version": 3
   },
   "file_extension": ".py",
   "mimetype": "text/x-python",
   "name": "python",
   "nbconvert_exporter": "python",
   "pygments_lexer": "ipython3",
   "version": "3.6.7"
  }
 },
 "nbformat": 4,
 "nbformat_minor": 2
}
