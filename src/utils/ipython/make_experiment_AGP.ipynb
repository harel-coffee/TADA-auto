{
 "cells": [
  {
   "cell_type": "code",
   "execution_count": 207,
   "metadata": {},
   "outputs": [],
   "source": [
    "import pandas as pd\n",
    "import numpy as np\n",
    "import biom\n",
    "import re\n",
    "from biom.util import biom_open  \n",
    "from biom.table import Table\n",
    "import json\n",
    "import os"
   ]
  },
  {
   "cell_type": "code",
   "execution_count": 208,
   "metadata": {},
   "outputs": [],
   "source": [
    "def read_csv(meta_fp, biom_fp, min_freq_sum, min_freq):\n",
    "    meta = pd.read_csv(meta_fp, sep='\\t', dtype={'#SampleID': str}, low_memory=False, index_col= '#SampleID')\n",
    "    table = biom.load_table(biom_fp)\n",
    "    print(meta_fp, meta.shape, biom_fp, table.shape)\n",
    "    meta = meta.loc[meta.index.isin(table.ids('sample'))]\n",
    "    table = table.filter(axis='sample',ids_to_keep=meta.index, inplace=False)\n",
    "    print(meta_fp, meta.shape, biom_fp, table.shape)\n",
    "    filter_fn = lambda val, id_, md: val.sum() > min_freq_sum\n",
    "    table = table.filter(axis='observation', ids_to_keep=filter_fn, inplace=False)\n",
    "    filter_fn = lambda val, id_, md: val.sum() > min_freq  \n",
    "    print(meta_fp, meta.shape, biom_fp, table.shape)\n",
    "    table = table.filter(axis='sample', ids_to_keep=filter_fn, inplace=False)\n",
    "    print(meta_fp, meta.shape, biom_fp, table.shape)\n",
    "    meta = meta.loc[meta.index.isin(table.ids('sample'))]\n",
    "    return meta, table"
   ]
  },
  {
   "cell_type": "code",
   "execution_count": 209,
   "metadata": {},
   "outputs": [],
   "source": [
    "main_dir = '/Users/erfan/Main/oasis/test_augmentation/augmentation/AGP/'\n",
    "biom_fp = main_dir + '/all.biom'\n",
    "meta_fp = main_dir + '/20180405_cleaned_agp_metadata.tsv'"
   ]
  },
  {
   "cell_type": "code",
   "execution_count": 212,
   "metadata": {},
   "outputs": [
    {
     "name": "stdout",
     "output_type": "stream",
     "text": [
      "/Users/erfan/Main/oasis/test_augmentation/augmentation/AGP//metadata.csv (17876, 537) /Users/erfan/Main/oasis/test_augmentation/augmentation/AGP//all.biom (848984, 14794)\n",
      "/Users/erfan/Main/oasis/test_augmentation/augmentation/AGP//metadata.csv (13977, 537) /Users/erfan/Main/oasis/test_augmentation/augmentation/AGP//all.biom (848984, 13977)\n",
      "/Users/erfan/Main/oasis/test_augmentation/augmentation/AGP//metadata.csv (13977, 537) /Users/erfan/Main/oasis/test_augmentation/augmentation/AGP//all.biom (587689, 13977)\n",
      "/Users/erfan/Main/oasis/test_augmentation/augmentation/AGP//metadata.csv (13977, 537) /Users/erfan/Main/oasis/test_augmentation/augmentation/AGP//all.biom (587689, 13859)\n"
     ]
    }
   ],
   "source": [
    "metat1, tablet1 = read_csv(meta_fp, biom_fp, 1, 999)"
   ]
  },
  {
   "cell_type": "code",
   "execution_count": 213,
   "metadata": {},
   "outputs": [],
   "source": [
    "metat1 = metat1.loc[metat1.index.isin(tablet1.ids('sample'))]"
   ]
  },
  {
   "cell_type": "code",
   "execution_count": 214,
   "metadata": {},
   "outputs": [],
   "source": [
    "def filter_biom(meta, table, min_freq_sum, min_freq):\n",
    "    table = table.filter(axis='sample', ids_to_keep=meta.index,inplace=False)\n",
    "    filter_fn = lambda val, id_, md: val.sum() >= min_freq_sum\n",
    "    table = table.filter(axis='observation', ids_to_keep=filter_fn, inplace=False)\n",
    "    filter_fn = lambda val, id_, md: val.sum() >= min_freq  \n",
    "    print(\"meta_fp\", meta.shape, \"biom_fp\", table.shape)\n",
    "    table = table.filter(axis='sample', ids_to_keep=filter_fn, inplace=False)\n",
    "    print(\"meta_fp\", meta.shape, \"biom_fp\", table.shape)\n",
    "    meta = meta.loc[meta.index.isin(table.ids('sample'))]\n",
    "    meta = meta.reindex(table.ids('sample'))\n",
    "    print((meta.index == table.ids('sample')).sum())\n",
    "    return meta, table"
   ]
  },
  {
   "cell_type": "code",
   "execution_count": 217,
   "metadata": {},
   "outputs": [],
   "source": [
    "def filter_samples_AGP(meta, table):\n",
    "    print(meta.shape, table.shape)\n",
    "    to_remove_disease = ['Diagnosed by an alternative medicine practitioner', 'Diagnosed by a medical professional (doctor, physician assistant)',\n",
    "                        'Self-diagnosed']\n",
    "    to_remove_disease_doc = ['Diagnosed by an alternative medicine practitioner', 'Diagnosed by a medical professional (doctor, physician assistant)']\n",
    "    meta = meta.loc[~meta.age_years.isin(['Unknown', 'not provided','Not provided'])]\n",
    "    meta.age_years = meta.age_years.astype(float)\n",
    "    meta = meta.loc[(meta.age_years >= 20) & (meta.age_years <= 70)]\n",
    "    meta = meta.loc[meta.subset_healthy == True]\n",
    "\n",
    "    meta = meta.loc[meta.antibiotic_history.isin([\"I have not taken antibiotics in the past year.\"])]\n",
    "    meta = meta.loc[meta.country.isin(['USA'])]\n",
    "    meta = meta.loc[meta.diet_type.isin(['Omnivore'])]\n",
    "    meta = meta.loc[meta.sample_type.isin(['Stool'])]\n",
    "    meta = meta.loc[meta.bmi_cat.isin(['Normal', 'Overweight'])]\n",
    "    meta = meta.loc[meta.race.isin(['Caucasian'])]\n",
    "    \n",
    "    meta = meta.loc[~meta.sex.isin(['Unknown','other', 'unspecified'])]\n",
    "\n",
    "    meta = meta.loc[meta.ibd.isin(['I do not have this condition'])]\n",
    "\n",
    "    meta = meta.loc[meta.diabetes.isin(['I do not have this condition'])]\n",
    "    meta = meta.loc[~meta.autoimmune.isin(to_remove_disease_doc)]\n",
    "\n",
    "    meta = meta.loc[~meta.cancer.isin(to_remove_disease)]\n",
    "    meta = meta.loc[~meta.cardiovascular_disease.isin(to_remove_disease)]\n",
    "    meta = meta.loc[~meta.kidney_disease.isin(to_remove_disease)]\n",
    "    meta = meta.loc[~meta.mental_illness.isin(['true'])]\n",
    "    meta = meta.loc[~meta.migraine.isin(to_remove_disease)]\n",
    "    meta = meta.loc[~meta.pregnant.isin(['true','Not sure'])]\n",
    "    meta = meta.loc[~meta.index.isin(['10317.000066520'])]\n",
    "    print(meta.shape, table.shape)\n",
    "    meta, table = filter_biom(meta, table, 4, 1000)\n",
    "    return meta, table"
   ]
  },
  {
   "cell_type": "code",
   "execution_count": 218,
   "metadata": {},
   "outputs": [
    {
     "name": "stdout",
     "output_type": "stream",
     "text": [
      "(13859, 537) (587689, 13859)\n",
      "(1942, 537) (587689, 13859)\n",
      "meta_fp (1942, 537) biom_fp (21050, 1942)\n",
      "meta_fp (1942, 537) biom_fp (21050, 1942)\n",
      "1942\n"
     ]
    }
   ],
   "source": [
    "meta1, table1 = filter_samples_AGP(metat1, tablet1)"
   ]
  },
  {
   "cell_type": "code",
   "execution_count": 219,
   "metadata": {},
   "outputs": [
    {
     "data": {
      "text/plain": [
       "set()"
      ]
     },
     "execution_count": 219,
     "metadata": {},
     "output_type": "execute_result"
    }
   ],
   "source": [
    "a = set(table1.ids('observation')) - set(table_main.ids('observation'))\n",
    "set(table_main.ids('observation')) - set(table1.ids('observation')) "
   ]
  },
  {
   "cell_type": "code",
   "execution_count": 220,
   "metadata": {},
   "outputs": [
    {
     "data": {
      "text/plain": [
       "0.0"
      ]
     },
     "execution_count": 220,
     "metadata": {},
     "output_type": "execute_result"
    }
   ],
   "source": [
    "(table1.matrix_data - table_main.matrix_data).sum()"
   ]
  },
  {
   "cell_type": "code",
   "execution_count": 221,
   "metadata": {},
   "outputs": [],
   "source": [
    "seqs = table1.ids('observation')"
   ]
  },
  {
   "cell_type": "code",
   "execution_count": 222,
   "metadata": {},
   "outputs": [],
   "source": [
    "meta1 = meta1.reindex(table1.ids('sample'))"
   ]
  },
  {
   "cell_type": "code",
   "execution_count": 224,
   "metadata": {},
   "outputs": [],
   "source": [
    "if not os.path.exists(main_dir + 'Final'):\n",
    "    os.mkdir(main_dir + 'Final')"
   ]
  },
  {
   "cell_type": "code",
   "execution_count": 225,
   "metadata": {},
   "outputs": [],
   "source": [
    "with(open(main_dir + 'Final/dna-fragments.fasta','w')) as f:\n",
    "    seqs = list(seqs)\n",
    "    for i in range(0, len(list(seqs))):\n",
    "        print(\">\" + seqs[i] + \"\\n\" + seqs[i], file=f)"
   ]
  },
  {
   "cell_type": "code",
   "execution_count": 226,
   "metadata": {},
   "outputs": [],
   "source": [
    "with biom_open(main_dir + 'Final/feature-table.biom', 'w') as f:  \n",
    "    table1.to_hdf5(f, \"AGP\")"
   ]
  },
  {
   "cell_type": "code",
   "execution_count": 227,
   "metadata": {},
   "outputs": [],
   "source": [
    "meta1.to_csv(main_dir + 'Final/meta_data.csv',sep='\\t',index_label='#SampleID')"
   ]
  }
 ],
 "metadata": {
  "kernelspec": {
   "display_name": "Python 3",
   "language": "python",
   "name": "python3"
  },
  "language_info": {
   "codemirror_mode": {
    "name": "ipython",
    "version": 3
   },
   "file_extension": ".py",
   "mimetype": "text/x-python",
   "name": "python",
   "nbconvert_exporter": "python",
   "pygments_lexer": "ipython3",
   "version": "3.6.7"
  }
 },
 "nbformat": 4,
 "nbformat_minor": 2
}
